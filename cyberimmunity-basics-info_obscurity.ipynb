{
 "cells": [
  {
   "attachments": {},
   "cell_type": "markdown",
   "metadata": {
    "datalore": {
     "hide_input_from_viewers": false,
     "hide_output_from_viewers": false,
     "node_id": "0RJSlfIlixBX3VaSDV2gM0",
     "report_properties": {
      "y": 0
     },
     "type": "MD"
    }
   },
   "source": [
    "# Кибериммунный подход к разработке.<br> Шаблон \"Обфускация чувствительных данных\"\n",
    "\n",
    "## Об авторе \n",
    "\n",
    "Этот блокнот разработан для вас Сергеем Соболевым, sergey.p.sobolev@kaspersky.com\n",
    "\n",
    "Больше информации о кибериммунном подходе можно найти на странице https://github.com/sergey-sobolev/cyberimmune-systems/wiki/%D0%9A%D0%B8%D0%B1%D0%B5%D1%80%D0%B8%D0%BC%D0%BC%D1%83%D0%BD%D0%B8%D1%82%D0%B5%D1%82\n",
    "\n",
    "Подписывайтесь на телеграм-канал @learning_cyberimmunity (https://t.me/learning_cyberimmunity)\n",
    "\n",
    "Обучающие видео на тему кибериммунного подхода вы можете найти на youtube канале https://www.youtube.com/@learning_cyberimmunity/\n",
    "\n",
    "## Ключевые технологии\n",
    "\n",
    "- FLASK (FLux Advanced Security Kernel) - простая демонстрация FLASK в другом блокноте, здесь используем наработки\n",
    "- Обфускация или шифрование данных - например, конфиденциальность которых необходимо обеспечить\n",
    "\n",
    "Обфускация позволяет сохранить конфиденциальность данных, даже в случае компрометации внутренних компонент, до тех пор, пока данные остаются в защищённом виде."
   ]
  },
  {
   "attachments": {},
   "cell_type": "markdown",
   "metadata": {
    "datalore": {
     "hide_input_from_viewers": false,
     "hide_output_from_viewers": false,
     "node_id": "qoIrYDyN2Q7aUkbphFojc4",
     "report_properties": {
      "y": 13
     },
     "type": "MD"
    }
   },
   "source": [
    "## Сценарий примера\n",
    "\n",
    "1. Создадим три сущности (Обработчик данных - DataProcessor, База данных - DataBase и Файловая система - FileSystem) и монитор (Monitor), который будет контролировать их взаимодействие\n",
    "2. Определим политики безопасности\n",
    "3. Подготовим данные, которые будут содержать некритичную и критичную части, критичную часть обработчик данных должен будет обфусцировать перед отправкой в базу данных\n",
    "\n",
    "- Каждая сущность в качестве интерфейса использует очереди сообщений, у каждой сущности есть своя «персональная» очередь, ассоциированная с ней\n",
    "- DataProcessor, DataBase и FileSystem отправляют сообщения только в очередь Monitor\n",
    "- Monitor проверяет сообщения на соответствие политикам безопасности, в случае положительного решения перенаправляет сообщение в очередь соответствующей сущности\n",
    "\n",
    "![диаграмма](./images/architecture-policy.png?raw=true)"
   ]
  },
  {
   "attachments": {},
   "cell_type": "markdown",
   "metadata": {
    "datalore": {
     "hide_input_from_viewers": false,
     "hide_output_from_viewers": false,
     "node_id": "jgbNeMOKShjE1hm5tuOBw4",
     "report_properties": {
      "y": 38
     },
     "type": "MD"
    }
   },
   "source": [
    "Очередь событий для монитора безопасности: все запросы от сущностей друг к другу должны отправляться только в неё"
   ]
  },
  {
   "cell_type": "code",
   "execution_count": 1,
   "metadata": {
    "datalore": {
     "hide_input_from_viewers": false,
     "hide_output_from_viewers": false,
     "node_id": "qFXLn0lYAaIyfzbH8A8kEE",
     "report_properties": {
      "y": 41
     },
     "type": "CODE"
    }
   },
   "outputs": [],
   "source": [
    "from multiprocessing import Queue\n",
    "monitor_events_queue = Queue()"
   ]
  },
  {
   "attachments": {},
   "cell_type": "markdown",
   "metadata": {
    "datalore": {
     "hide_input_from_viewers": false,
     "hide_output_from_viewers": false,
     "node_id": "EkzehjnA2Mnrg7a0WZGW25",
     "report_properties": {
      "y": 45
     },
     "type": "MD"
    }
   },
   "source": [
    "Зафиксируем формат сообщений"
   ]
  },
  {
   "cell_type": "code",
   "execution_count": 3,
   "metadata": {
    "datalore": {
     "hide_input_from_viewers": false,
     "hide_output_from_viewers": false,
     "node_id": "eZGbZhLgtEf9aQODDvGKff",
     "report_properties": {
      "y": 48
     },
     "type": "CODE"
    }
   },
   "outputs": [],
   "source": [
    "from dataclasses import dataclass\n",
    "\n",
    "\n",
    "@dataclass\n",
    "class Event:\n",
    "    source: str       # отправитель\n",
    "    destination: str  # получатель\n",
    "    operation: str    # чего хочет (запрашиваемое действие)\n",
    "    parameters: str   # с какими параметрами\n",
    "    data: str or None # дополнительные данные"
   ]
  },
  {
   "attachments": {},
   "cell_type": "markdown",
   "metadata": {
    "datalore": {
     "hide_input_from_viewers": false,
     "hide_output_from_viewers": false,
     "node_id": "hRJUXA47UL8ukf6MNHvVyx",
     "report_properties": {
      "y": 55
     },
     "type": "MD"
    }
   },
   "source": [
    "### Монитор безопасности"
   ]
  },
  {
   "attachments": {},
   "cell_type": "markdown",
   "metadata": {
    "datalore": {
     "hide_input_from_viewers": false,
     "hide_output_from_viewers": false,
     "node_id": "n4tONisJH18giBQyiDOBA8",
     "report_properties": {
      "y": 58
     },
     "type": "MD"
    }
   },
   "source": [
    "Ниже в методе _check_policies можно увидеть пример политики безопасности:\n",
    "\n",
    "```python\n",
    "if event.source == \"WorkerA\" \\\n",
    "        and event.destination == \"WorkerB\" \\\n",
    "        and event.operation == \"say\" \\\n",
    "        and event.parameters == \"hello\":\n",
    "    authorized = True\n",
    "```            \n",
    "\n",
    "в этом примере проверяется отправитель сообщения, получатель, запрашиваемая операция и даже параметры операции. Это максимально жёсткий вариант, очевидно, количество проверок можно уменьшить.\n",
    "\n",
    "А пока это место для экспериментов, как можно из монитора безопасности заблокировать взаимодействие между сущностями."
   ]
  },
  {
   "cell_type": "code",
   "execution_count": null,
   "metadata": {
    "datalore": {
     "hide_input_from_viewers": false,
     "hide_output_from_viewers": false,
     "node_id": "CtnCsaSVbBzOlL3WjFpUjl",
     "report_properties": {
      "y": 67
     },
     "type": "CODE"
    }
   },
   "outputs": [],
   "source": [
    "from multiprocessing import Queue, Process\n",
    "from multiprocessing.queues import Empty\n",
    "\n",
    "\n",
    "# формат управляющих команд для монитора\n",
    "@dataclass\n",
    "class ControlEvent:\n",
    "    operation: str\n",
    "\n",
    "\n",
    "# Класс, реализующий поведение монитора безопасности\n",
    "class Monitor(Process):\n",
    "\n",
    "    def __init__(self, events_q: Queue):\n",
    "        # вызываем конструктор базового класса\n",
    "        super().__init__()\n",
    "        self._events_q = events_q  # очередь событий для монитора (входящие сообщения)\n",
    "        self._control_q = Queue()  # очередь управляющих команд (например, для остановки монитора)\n",
    "        self._entity_queues = {}   # словарь очередей известных монитору сущностей\n",
    "        self._force_quit = False   # флаг завершения работы монитора\n",
    "\n",
    "    # регистрация очереди новой сущности\n",
    "    def add_entity_queue(self, entity_id: str, queue: Queue):\n",
    "        print(f\"[монитор] регистрируем сущность {entity_id}\")\n",
    "        self._entity_queues[entity_id] = queue\n",
    "\n",
    "    # проверка политик безопасности        \n",
    "    def _check_policies(self, event):\n",
    "        print(f'[монитор] обрабатываем событие {event}')\n",
    "\n",
    "        # default deny: всё, что не разрешено, запрещено по умолчанию!\n",
    "        authorized = False\n",
    "\n",
    "        # проверка на входе, что это экземпляр класса Event, \n",
    "        # т.е. имеет ожидаемый формат\n",
    "        if not isinstance(event, Event):\n",
    "            return False\n",
    "\n",
    "        # \n",
    "        #  политики безопасности\n",
    "        #\n",
    "\n",
    "        # запрос на чтение данных из базы для обработки\n",
    "        if event.source == \"DataProcessor\" \\\n",
    "                and event.destination == \"DataBase\" \\\n",
    "                and event.operation == \"read_request\" \\\n",
    "                and event.parameters == \"table_orders\" \\\n",
    "                and event.data is None:\n",
    "            authorized = True\n",
    "\n",
    "        # ответ на запрос на чтение данных из базы для обработки\n",
    "        # event.data не проверяем, т.к. может быть пустым или нет в \n",
    "        # зависимости от наличия данных\n",
    "        if event.source == \"DataProcessor\" \\\n",
    "                and event.destination == \"DataBase\" \\\n",
    "                and event.operation == \"read_response\" \\\n",
    "                and event.parameters == \"table_orders\":\n",
    "            authorized = True            \n",
    "\n",
    "        # запрос на запись обработанных данных в базу \n",
    "        if event.source == \"DataProcessor\" \\\n",
    "                and event.destination == \"DataBase\" \\\n",
    "                and event.operation == \"write_request\" \\\n",
    "                and event.parameters == \"table_orders\" \\\n",
    "                and event.data is not None:\n",
    "            authorized = True\n",
    "\n",
    "        # запрос на запись данных в файловую систему\n",
    "        if event.source == \"DataBase\" \\\n",
    "                and event.destination == \"FileSystem\" \\\n",
    "                and event.operation == \"write\" \\\n",
    "                and event.parameters is not None \\\n",
    "                and event.data is not None:\n",
    "            authorized = True\n",
    "\n",
    "        # запрос на чтение данных из файловой систему\n",
    "        if event.source == \"DataBase\" \\\n",
    "                and event.destination == \"FileSystem\" \\\n",
    "                and event.operation == \"read_request\" \\\n",
    "                and event.parameters is not None \\\n",
    "                and event.data is None:\n",
    "            authorized = True\n",
    "\n",
    "        # запрос на чтение данных из файловой систему\n",
    "        if event.source == \"FileSystem\" \\\n",
    "                and event.destination == \"FileSystem\" \\\n",
    "                and event.operation == \"read_resposnse\" \\\n",
    "                and event.parameters is not None \\\n",
    "                and event.data is None:\n",
    "            authorized = True\n",
    "\n",
    "\n",
    "\n",
    "        if authorized is False:\n",
    "            print(f\"[монитор] событие не разрешено политиками безопасности\")\n",
    "        return authorized\n",
    "\n",
    "    # выполнение разрешённого запроса\n",
    "    # метод должен вызываться только после проверки политик безопасности\n",
    "    def _proceed(self, event):\n",
    "        print(f'[монитор] отправляем запрос {event}')\n",
    "        try:\n",
    "            # найдём очередь получателя события\n",
    "            dst_q: Queue = self._entity_queues[event.destination]\n",
    "            # и положим запрос в эту очередь\n",
    "            dst_q.put(event)\n",
    "        except  Exception as e:\n",
    "            # например, запрос пришёл от или для неизвестной сущности\n",
    "            print(f\"[монитор] ошибка выполнение запроса {e}\")\n",
    "\n",
    "    # основной код работы монитора безопасности    \n",
    "    def run(self):\n",
    "        print(f'[монитор] старт')\n",
    "\n",
    "        # в цикле проверяет наличие новых событий, \n",
    "        # выход из цикла по флагу _force_quit\n",
    "        while self._force_quit is False:\n",
    "            event = None\n",
    "            try:\n",
    "                # ожидание сделано неблокирующим, \n",
    "                # чтобы можно было завершить работу монитора, \n",
    "                # не дожидаясь нового сообщения\n",
    "                event = self._events_q.get_nowait()\n",
    "                # сюда попадаем только в случае получение события,\n",
    "                # теперь нужно проверить политики безопасности\n",
    "                authorized = self._check_policies(event)\n",
    "                if authorized:\n",
    "                    # если политиками запрос авторизован - выполняем\n",
    "                    self._proceed(event)\n",
    "            except Empty:\n",
    "                # сюда попадаем, если новых сообщений ещё нет,\n",
    "                # в таком случае немного подождём\n",
    "                sleep(0.5)\n",
    "            except Exception as e:\n",
    "                # что-то пошло не так, выведем сообщение об ошибке\n",
    "                print(f\"[монитор] ошибка обработки {e}, {event}\")\n",
    "            self._check_control_q()\n",
    "        print(f'[монитор] завершение работы')\n",
    "\n",
    "    # запрос на остановку работы монитора безопасности для завершения работы\n",
    "    # может вызываться вне процесса монитора\n",
    "    def stop(self):\n",
    "        # поскольку монитор работает в отдельном процессе,\n",
    "        # запрос помещается в очередь, которая проверяется из процесса монитора\n",
    "        request = ControlEvent(operation='stop')\n",
    "        self._control_q.put(request)\n",
    "\n",
    "    # проверка наличия новых управляющих команд\n",
    "    def _check_control_q(self):\n",
    "        try:\n",
    "            request: ControlEvent = self._control_q.get_nowait()\n",
    "            print(f\"[монитор] проверяем запрос {request}\")\n",
    "            if isinstance(request, ControlEvent) and request.operation == 'stop':\n",
    "                # поступил запрос на остановку монитора, поднимаем \"красный флаг\"\n",
    "                self._force_quit = True\n",
    "        except Empty:\n",
    "            # никаких команд не поступило, ну и ладно\n",
    "            pass"
   ]
  },
  {
   "attachments": {},
   "cell_type": "markdown",
   "metadata": {
    "datalore": {
     "hide_input_from_viewers": false,
     "hide_output_from_viewers": false,
     "node_id": "zyIhGBqKLRidFSWHBpxdOQ",
     "report_properties": {
      "y": 122
     },
     "type": "MD"
    }
   },
   "source": [
    "### Сущность А\n",
    "\n",
    "Эта сущность отправляет одно сообщение для другой сущности (WorkerB) и завершает работу."
   ]
  },
  {
   "cell_type": "code",
   "execution_count": 5,
   "metadata": {
    "datalore": {
     "hide_input_from_viewers": false,
     "hide_output_from_viewers": false,
     "node_id": "qV7V16FUiRUb10fXlcR7gH",
     "report_properties": {
      "y": 126
     },
     "type": "CODE"
    }
   },
   "outputs": [],
   "source": [
    "from multiprocessing import Queue, Process, log_to_stderr\n",
    "\n",
    "\n",
    "class WorkerA(Process):\n",
    "\n",
    "    def __init__(self, monitor_queue: Queue):\n",
    "        # вызываем конструктор базового класса\n",
    "        super().__init__()\n",
    "        # мы знаем только очередь монитора безопасности для взаимодействия с другими сущностями\n",
    "        # прямая отправка сообщений в другую сущность запрещена в концепции FLASK\n",
    "        self.monitor_queue = monitor_queue\n",
    "        # создаём собственную очередь, в которую монитор сможет положить сообщения для этой сущности\n",
    "        self._own_queue = Queue()\n",
    "\n",
    "    # выдаёт собственную очередь для взаимодействия\n",
    "    def entity_queue(self):\n",
    "        return self._own_queue\n",
    "\n",
    "    # основной код сущности\n",
    "    def run(self):        \n",
    "        print(f'[{self.__class__.__name__}] старт')\n",
    "        print(f'[{self.__class__.__name__}] отправляем тестовый запрос')\n",
    "\n",
    "        # запрос для сущности WorkerB - \"скажи hello\"\n",
    "        event = Event(source=self.__class__.__name__,\n",
    "                      destination='WorkerB',\n",
    "                      operation='say',\n",
    "                      parameters='hello'\n",
    "                      )\n",
    "        \n",
    "        self.monitor_queue.put(event)\n",
    "        print(f'[{self.__class__.__name__}] завершение работы')"
   ]
  },
  {
   "attachments": {},
   "cell_type": "markdown",
   "metadata": {
    "datalore": {
     "hide_input_from_viewers": false,
     "hide_output_from_viewers": false,
     "node_id": "qKFu63q84HSs8LCLAIzUsM",
     "report_properties": {
      "y": 143
     },
     "type": "MD"
    }
   },
   "source": [
    "### Сущность B\n",
    "\n",
    "Эта сущность ждёт входящее сообщение в течение заданного периода времени, если получает - обрабатывает и завершает работу или выходит по таймауту."
   ]
  },
  {
   "cell_type": "code",
   "execution_count": 6,
   "metadata": {
    "datalore": {
     "hide_input_from_viewers": false,
     "hide_output_from_viewers": false,
     "node_id": "aHRTq6D8zq515nYq4S5Grq",
     "report_properties": {
      "y": 147
     },
     "type": "CODE"
    }
   },
   "outputs": [],
   "source": [
    "from multiprocessing import Queue, Process\n",
    "from time import sleep\n",
    "\n",
    "\n",
    "class WorkerB(Process):\n",
    "\n",
    "    def __init__(self, monitor_queue: Queue):\n",
    "        # вызываем конструктор базового класса\n",
    "        super().__init__()\n",
    "        # мы знаем только очередь монитора безопасности для взаимодействия с другими сущностями\n",
    "        # прямая отправка сообщений в другую сущность запрещена в концепции FLASK\n",
    "        self.monitor_queue = monitor_queue\n",
    "        # создаём собственную очередь, в которую монитор сможет положить сообщения для этой сущности\n",
    "        self._own_queue = Queue()\n",
    "\n",
    "    def entity_queue(self):\n",
    "        return self._own_queue\n",
    "\n",
    "    # основной код сущности\n",
    "    def run(self):        \n",
    "        print(f'[{self.__class__.__name__}] старт')\n",
    "        attempts = 5\n",
    "        while attempts > 0:\n",
    "            try:\n",
    "                event: Event = self._own_queue.get_nowait()\n",
    "                if event.operation == \"say\":\n",
    "                    print(f\"[{self.__class__.__name__}] {event.source} захотел, чтобы мы сказали {event.parameters}\")\n",
    "                    print(f\"[{self.__class__.__name__}] мы согласны: {event.parameters}!\")\n",
    "                    break\n",
    "            except Empty:\n",
    "                sleep(0.2)\n",
    "                attempts -= 1\n",
    "        print(f'[{self.__class__.__name__}] завершение работы')"
   ]
  },
  {
   "attachments": {},
   "cell_type": "markdown",
   "metadata": {
    "datalore": {
     "hide_input_from_viewers": false,
     "hide_output_from_viewers": false,
     "node_id": "bxjEVINz9fOYcALLwJyT5x",
     "report_properties": {
      "y": 165
     },
     "type": "MD"
    }
   },
   "source": [
    "### Инициализируем монитор и сущности"
   ]
  },
  {
   "cell_type": "code",
   "execution_count": 7,
   "metadata": {
    "datalore": {
     "hide_input_from_viewers": false,
     "hide_output_from_viewers": false,
     "node_id": "sQGtSVoeImd8MaD1uVHSHp",
     "report_properties": {
      "y": 168
     },
     "type": "CODE"
    }
   },
   "outputs": [],
   "source": [
    "monitor = Monitor(monitor_events_queue)\n",
    "worker_a = WorkerA(monitor_events_queue)\n",
    "worker_b = WorkerB(monitor_events_queue)"
   ]
  },
  {
   "attachments": {},
   "cell_type": "markdown",
   "metadata": {
    "datalore": {
     "hide_input_from_viewers": false,
     "hide_output_from_viewers": false,
     "node_id": "gI4eUA7J5oYR0Iuos0a2so",
     "report_properties": {
      "y": 172
     },
     "type": "MD"
    }
   },
   "source": [
    "регистрируем очереди сущностей в мониторе"
   ]
  },
  {
   "cell_type": "code",
   "execution_count": 8,
   "metadata": {
    "datalore": {
     "hide_input_from_viewers": false,
     "hide_output_from_viewers": false,
     "node_id": "jj3dRPwN0zJJAuwuYDScYO",
     "report_properties": {
      "y": 175
     },
     "type": "CODE"
    }
   },
   "outputs": [
    {
     "name": "stdout",
     "output_type": "stream",
     "text": [
      "[монитор] регистрируем сущность WorkerA\n",
      "[монитор] регистрируем сущность WorkerB\n"
     ]
    }
   ],
   "source": [
    "monitor.add_entity_queue(worker_a.__class__.__name__, worker_a.entity_queue())\n",
    "monitor.add_entity_queue(worker_b.__class__.__name__, worker_b.entity_queue())"
   ]
  },
  {
   "attachments": {},
   "cell_type": "markdown",
   "metadata": {
    "datalore": {
     "hide_input_from_viewers": false,
     "hide_output_from_viewers": false,
     "node_id": "Fs6PfdIKOB1pj2iK8wRUPV",
     "report_properties": {
      "y": 181
     },
     "type": "MD"
    }
   },
   "source": [
    "### Запускаем всё"
   ]
  },
  {
   "attachments": {},
   "cell_type": "markdown",
   "metadata": {
    "datalore": {
     "hide_input_from_viewers": false,
     "hide_output_from_viewers": false,
     "node_id": "PzAg6s2xfAZYt0ZbKdEsIR",
     "report_properties": {
      "y": 184
     },
     "type": "MD"
    }
   },
   "source": [
    "Ожидаемая последовательность событий\n",
    "\n",
    "![Диаграмма последовательности вызовов](https://www.plantuml.com/plantuml/png/SoWkIImgAStDuU8g038oapCB4lDA5CBpYx9JYnnHn7ppyp9Byekmg7FYue9gKD2rWwdJrhPIkDXuOT-5ZHUxBpPTs75XgyA5BHTsN-o7Qu8gHD9ZfN1X_yK6e9vD5xO2wLqNDW05WDpT5tQ0ZTY5f0TcZAukfZtxBZR1lP2ON99PbbYI2hSMIgCP0J80QEM62nj1ka5MevXwiP-BYyiXDIy565G0)"
   ]
  },
  {
   "cell_type": "code",
   "execution_count": 9,
   "metadata": {
    "datalore": {
     "hide_input_from_viewers": false,
     "hide_output_from_viewers": false,
     "node_id": "iPZmNnkpcdyoIXv318yymh",
     "report_properties": {
      "y": 194
     },
     "type": "CODE"
    }
   },
   "outputs": [
    {
     "name": "stdout",
     "output_type": "stream",
     "text": [
      "[монитор] старт\n",
      "[WorkerA] старт\n",
      "[WorkerB] старт\n",
      "[WorkerA] отправляем тестовый запрос\n",
      "[WorkerA] завершение работы\n",
      "[монитор] обрабатываем событие Event(source='WorkerA', destination='WorkerB', operation='say', parameters='hello')\n",
      "[монитор] отправляем запрос Event(source='WorkerA', destination='WorkerB', operation='say', parameters='hello')\n",
      "[WorkerB] WorkerA захотел, чтобы мы сказали hello\n",
      "[WorkerB] мы согласны: hello!\n",
      "[WorkerB] завершение работы\n"
     ]
    }
   ],
   "source": [
    "monitor.start()\n",
    "worker_a.start()\n",
    "worker_b.start()\n",
    "sleep(2)"
   ]
  },
  {
   "attachments": {},
   "cell_type": "markdown",
   "metadata": {
    "datalore": {
     "hide_input_from_viewers": false,
     "hide_output_from_viewers": false,
     "node_id": "yjTSPXH69VsYFlzYmCG8Uz",
     "report_properties": {
      "y": 206
     },
     "type": "MD"
    }
   },
   "source": [
    "### Теперь останавливаем"
   ]
  },
  {
   "cell_type": "code",
   "execution_count": 10,
   "metadata": {
    "datalore": {
     "hide_input_from_viewers": false,
     "hide_output_from_viewers": false,
     "node_id": "IO5BC9EYbABeIVgITd22Al",
     "report_properties": {
      "y": 209
     },
     "type": "CODE"
    }
   },
   "outputs": [
    {
     "name": "stdout",
     "output_type": "stream",
     "text": [
      "[монитор] проверяем запрос ControlEvent(operation='stop')\n",
      "[монитор] завершение работы\n"
     ]
    }
   ],
   "source": [
    "monitor.stop()\n",
    "worker_a.join()\n",
    "worker_b.join()\n",
    "monitor.join()"
   ]
  },
  {
   "attachments": {},
   "cell_type": "markdown",
   "metadata": {
    "datalore": {
     "hide_input_from_viewers": false,
     "hide_output_from_viewers": false,
     "node_id": "x6HCBafkZhFxKMVYJNoi7w",
     "report_properties": {
      "y": 213
     },
     "type": "MD"
    }
   },
   "source": [
    "## Заключение\n",
    "\n",
    "В этом блокноте продемонстрирован подход FLASK: тотальный контроль взаимодействия сущностей с помощью монитора безопасности и простейших политик.\n",
    "\n",
    "Пример не так прост, как может показаться: используется многопроцессная реализация - каждая сущность запускается в отдельном процессе, а передача данных осуществляется через специализированные очереди. После запуска сущностей доступ к их памяти становится защищён операционной системой. Это можно с натяжкой рассматривать как имитацию MILS функциональности."
   ]
  },
  {
   "attachments": {},
   "cell_type": "markdown",
   "metadata": {
    "datalore": {
     "hide_input_from_viewers": false,
     "hide_output_from_viewers": false,
     "node_id": "juTrOfcuxSpilSgNwmg3q3",
     "report_properties": {
      "y": 220
     },
     "type": "MD"
    }
   },
   "source": [
    "## Упражнения\n",
    "\n",
    "Уровень \"Новичок\"\n",
    "\n",
    "- в коде WorkerA измените текст передаваемого сообщения и выполните все ячейки. Убедитесь, что монитор безопасности заблокировал сообщение, как нарушающее политику безопасности\n",
    "- добавьте текстовое сообщение в мониторе после успешной проверки политик безопасности\n",
    "- измените политики безопасности так, чтобы любой текст был допустим\n",
    "\n",
    "Уровень \"Шутки закончились\"\n",
    "\n",
    "- измените код сущностей так, чтобы передача сообщений между WorkerA и WorkerB была двунаправленной: после получения сообщения от WorkerA WorkerB посылает ответное сообщение отправителю (например, say \"done\"), WorkerA должен получить сообщение и выполнить команду. С помощью plantuml.com нарисуйте диаграмму последовательности для этого сценария и вставьте в блокнот.\n",
    "\n",
    "Уровень \"Полубог\"\n",
    "\n",
    "_Возможно, для задач этого уровня сложности имеет смысл перенести разработку кода в VS Code или PyCharm._\n",
    "\n",
    "- добавьте третью сущность (WorkerC), которая будет периодически (например, раз в минуту) запрашивать внешнюю информацию - например, курс валют с сайта ЦБ РФ (https://www.cbr-xml-daily.ru/latest.js) и отправлять WorkerA, а WorkerA в случае превышения заданного порога будет уведомлять WorkerB о событии. Очевидно, для этого сценария нужно доработать политики безопасности."
   ]
  }
 ],
 "metadata": {
  "datalore": {
   "base_environment": "default",
   "computation_mode": "JUPYTER",
   "package_manager": "pip",
   "packages": [],
   "version": 1
  },
  "kernelspec": {
   "display_name": "basic-demo-MX9QBRoe",
   "language": "python",
   "name": "python3"
  },
  "language_info": {
   "codemirror_mode": {
    "name": "ipython",
    "version": 3
   },
   "file_extension": ".py",
   "mimetype": "text/x-python",
   "name": "python",
   "nbconvert_exporter": "python",
   "pygments_lexer": "ipython3",
   "version": "3.8.10"
  }
 },
 "nbformat": 4,
 "nbformat_minor": 4
}
