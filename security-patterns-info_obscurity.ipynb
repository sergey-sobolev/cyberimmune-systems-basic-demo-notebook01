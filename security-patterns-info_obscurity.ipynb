{
 "cells": [
  {
   "attachments": {},
   "cell_type": "markdown",
   "metadata": {
    "datalore": {
     "hide_input_from_viewers": false,
     "hide_output_from_viewers": false,
     "node_id": "0RJSlfIlixBX3VaSDV2gM0",
     "report_properties": {
      "y": 0
     },
     "type": "MD"
    }
   },
   "source": [
    "# Кибериммунный подход к разработке.<br>Шаблоны безопасности.<br>Шаблон \"Обфускация чувствительных данных\"\n",
    "\n",
    "## Об авторе \n",
    "\n",
    "Этот блокнот разработан для вас Сергеем Соболевым, sergey.p.sobolev@kaspersky.com\n",
    "\n",
    "Больше информации о кибериммунном подходе можно найти на странице https://github.com/sergey-sobolev/cyberimmune-systems/wiki/%D0%9A%D0%B8%D0%B1%D0%B5%D1%80%D0%B8%D0%BC%D0%BC%D1%83%D0%BD%D0%B8%D1%82%D0%B5%D1%82\n",
    "\n",
    "Подписывайтесь на телеграм-канал @learning_cyberimmunity (https://t.me/learning_cyberimmunity)\n",
    "\n",
    "Обучающие видео на тему кибериммунного подхода вы можете найти на youtube канале https://www.youtube.com/@learning_cyberimmunity/\n",
    "\n",
    "## Ключевые технологии\n",
    "\n",
    "- FLASK (FLux Advanced Security Kernel) - простая демонстрация FLASK в другом блокноте, здесь используем наработки https://github.com/sergey-sobolev/cyberimmune-systems-basic-demo-notebook01/blob/main/cyberimmunity-basics.ipynb, открыть на Google Colab можно по ссылке https://colab.research.google.com/github/sergey-sobolev/cyberimmune-systems-basic-demo-notebook01/blob/main/cyberimmunity-basics.ipynb\n",
    "- Обфускация или шифрование данных - например, конфиденциальность которых необходимо обеспечить\n",
    "\n",
    "Обфускация позволяет сохранить конфиденциальность данных, даже в случае компрометации внутренних компонент, до тех пор, пока данные остаются в защищённом виде.\n",
    "\n",
    "См. так же описание шаблона https://support.kaspersky.ru/help/kce/1.0/ru-RU/info_obscurity_pattern.htm"
   ]
  },
  {
   "attachments": {},
   "cell_type": "markdown",
   "metadata": {
    "datalore": {
     "hide_input_from_viewers": false,
     "hide_output_from_viewers": false,
     "node_id": "qoIrYDyN2Q7aUkbphFojc4",
     "report_properties": {
      "y": 13
     },
     "type": "MD"
    }
   },
   "source": [
    "## Сценарий примера\n",
    "\n",
    "1. Создадим две сущности (Обработчик данных - DataProcessor и База данных - DataBase) и монитор (Monitor), который будет контролировать их взаимодействие\n",
    "2. Определим политики безопасности\n",
    "3. Подготовим данные, которые будут содержать некритичную и критичную части, критичную часть - имя клиента - обработчик данных должен будет обфусцировать перед отправкой в базу данных\n",
    "\n",
    "- Каждая сущность в качестве интерфейса использует очереди сообщений, у каждой сущности есть своя «персональная» очередь, ассоциированная с ней\n",
    "- DataProcessor и DataBase отправляют сообщения только в очередь Monitor\n",
    "- Monitor проверяет сообщения на соответствие политикам безопасности, в случае положительного решения перенаправляет сообщение в очередь соответствующей сущности\n",
    "\n",
    "![диаграмма](//www.plantuml.com/plantuml/png/TP71IWCn48RlUOgXFUyRY1Jn0GIFPGyXcyh2Df4aYtXJi4BHYs-o1ukBkZx3p1lvq_OGT-qfCva_t_ypMSIaGshNZS9HhxH9P6X-4wnrf2FD5FVoA1l-uNSUv8LtXABZuT2e6QdieNUhkh8krRgvJZxOwY_f4vH1dhW7OeVg6LN7N_9wXCb67lRidh__jSgyMfg3VmGFm7rm9rk4tSeR-XDHZL_VUeU4jBpKIL_eQCizQ3ov2jxO67t0-DusZRzJQZme2Z8guw2VRc0aQ5L-SLOi3mignwwv2YA0olE9Pc5TXP_x1G00?raw=true)\n",
    "\n",
    "На этой диаграмме монитор безопасности не указывается, но подразумевается."
   ]
  },
  {
   "attachments": {},
   "cell_type": "markdown",
   "metadata": {
    "datalore": {
     "hide_input_from_viewers": false,
     "hide_output_from_viewers": false,
     "node_id": "jgbNeMOKShjE1hm5tuOBw4",
     "report_properties": {
      "y": 38
     },
     "type": "MD"
    }
   },
   "source": [
    "Очередь событий для монитора безопасности: все запросы от сущностей друг к другу должны отправляться только в неё"
   ]
  },
  {
   "cell_type": "code",
   "execution_count": 322,
   "metadata": {
    "datalore": {
     "hide_input_from_viewers": false,
     "hide_output_from_viewers": false,
     "node_id": "qFXLn0lYAaIyfzbH8A8kEE",
     "report_properties": {
      "y": 41
     },
     "type": "CODE"
    }
   },
   "outputs": [],
   "source": [
    "from multiprocessing import Queue\n",
    "monitor_events_queue = Queue()"
   ]
  },
  {
   "attachments": {},
   "cell_type": "markdown",
   "metadata": {
    "datalore": {
     "hide_input_from_viewers": false,
     "hide_output_from_viewers": false,
     "node_id": "EkzehjnA2Mnrg7a0WZGW25",
     "report_properties": {
      "y": 45
     },
     "type": "MD"
    }
   },
   "source": [
    "Зафиксируем формат сообщений"
   ]
  },
  {
   "cell_type": "code",
   "execution_count": 323,
   "metadata": {
    "datalore": {
     "hide_input_from_viewers": false,
     "hide_output_from_viewers": false,
     "node_id": "eZGbZhLgtEf9aQODDvGKff",
     "report_properties": {
      "y": 48
     },
     "type": "CODE"
    }
   },
   "outputs": [],
   "source": [
    "from dataclasses import dataclass\n",
    "\n",
    "\n",
    "@dataclass\n",
    "class Event:\n",
    "    source: str              # отправитель\n",
    "    destination: str         # получатель\n",
    "    operation: str           # чего хочет (запрашиваемое действие)\n",
    "    parameters: str          # с какими параметрами\n",
    "    data: str or None = None # дополнительные данные"
   ]
  },
  {
   "attachments": {},
   "cell_type": "markdown",
   "metadata": {
    "datalore": {
     "hide_input_from_viewers": false,
     "hide_output_from_viewers": false,
     "node_id": "hRJUXA47UL8ukf6MNHvVyx",
     "report_properties": {
      "y": 55
     },
     "type": "MD"
    }
   },
   "source": [
    "### Монитор безопасности"
   ]
  },
  {
   "attachments": {},
   "cell_type": "markdown",
   "metadata": {
    "datalore": {
     "hide_input_from_viewers": false,
     "hide_output_from_viewers": false,
     "node_id": "n4tONisJH18giBQyiDOBA8",
     "report_properties": {
      "y": 58
     },
     "type": "MD"
    }
   },
   "source": [
    "Ниже в методе _check_policies можно увидеть пример политики безопасности:\n",
    "\n",
    "```python\n",
    "if event.source == \"DataProcessor\" \\\n",
    "                and event.destination == \"DataBase\" \\\n",
    "                and event.operation == \"read_request\" \\\n",
    "                and event.parameters == \"table_orders\" \\\n",
    "                and event.data is None:\n",
    "            authorized = True\n",
    "```            \n",
    "\n",
    "в этом примере проверяется отправитель сообщения, получатель, запрашиваемая операция и даже параметры операции. Это довольно жёсткий вариант, очевидно, количество проверок можно уменьшить.\n",
    "\n",
    "А пока это место для экспериментов, как можно из монитора безопасности заблокировать взаимодействие между сущностями."
   ]
  },
  {
   "attachments": {},
   "cell_type": "markdown",
   "metadata": {},
   "source": [
    "Используем стандартные пакеты для организации многопоточной работы примера"
   ]
  },
  {
   "cell_type": "code",
   "execution_count": 324,
   "metadata": {
    "datalore": {
     "hide_input_from_viewers": false,
     "hide_output_from_viewers": false,
     "node_id": "CtnCsaSVbBzOlL3WjFpUjl",
     "report_properties": {
      "y": 67
     },
     "type": "CODE"
    }
   },
   "outputs": [],
   "source": [
    "from multiprocessing import Queue, Process\n",
    "from multiprocessing.queues import Empty\n",
    "from time import sleep"
   ]
  },
  {
   "attachments": {},
   "cell_type": "markdown",
   "metadata": {},
   "source": [
    "Формат управляющих команд для монитора или других сущностей при необходимости"
   ]
  },
  {
   "cell_type": "code",
   "execution_count": 325,
   "metadata": {},
   "outputs": [],
   "source": [
    "@dataclass\n",
    "class ControlEvent:\n",
    "    operation: str"
   ]
  },
  {
   "attachments": {},
   "cell_type": "markdown",
   "metadata": {},
   "source": [
    "Класс, реализующий поведение монитора безопасности"
   ]
  },
  {
   "cell_type": "code",
   "execution_count": 326,
   "metadata": {},
   "outputs": [],
   "source": [
    "class Monitor(Process):\n",
    "\n",
    "    def __init__(self, events_q: Queue):\n",
    "        # вызываем конструктор базового класса\n",
    "        super().__init__()\n",
    "        self._events_q = events_q  # очередь событий для монитора (входящие сообщения)\n",
    "        self._control_q = Queue()  # очередь управляющих команд (например, для остановки монитора)\n",
    "        self._entity_queues = {}   # словарь очередей известных монитору сущностей\n",
    "        self._force_quit = False   # флаг завершения работы монитора\n",
    "\n",
    "    # регистрация очереди новой сущности\n",
    "    def add_entity_queue(self, entity_id: str, queue: Queue):\n",
    "        print(f\"[{self.__class__.__name__}] регистрируем сущность {entity_id}\")\n",
    "        self._entity_queues[entity_id] = queue\n",
    "\n",
    "    # проверка политик безопасности        \n",
    "    def _check_policies(self, event):\n",
    "        print(f'[{self.__class__.__name__}] обрабатываем событие {event}')\n",
    "\n",
    "        # default deny: всё, что не разрешено, запрещено по умолчанию!\n",
    "        authorized = False\n",
    "\n",
    "        # проверка на входе, что это экземпляр класса Event, \n",
    "        # т.е. имеет ожидаемый формат\n",
    "        if not isinstance(event, Event):\n",
    "            return False\n",
    "\n",
    "        # \n",
    "        #  политики безопасности\n",
    "        #\n",
    "\n",
    "        # запрос на чтение данных из базы для обработки\n",
    "        if event.source == \"DataProcessor\" \\\n",
    "                and event.destination == \"DataBase\" \\\n",
    "                and event.operation == \"read_request\" \\\n",
    "                and event.parameters == \"table_orders\" \\\n",
    "                and event.data is None:\n",
    "            authorized = True\n",
    "\n",
    "        # ответ на запрос на чтение данных из базы для обработки\n",
    "        # event.data не проверяем, т.к. может быть пустым или нет в \n",
    "        # зависимости от наличия данных\n",
    "        if event.source == \"DataBase\" \\\n",
    "                and event.destination == \"DataProcessor\" \\\n",
    "                and event.operation == \"read_response\" \\\n",
    "                and event.parameters == \"table_orders\":\n",
    "            authorized = True            \n",
    "\n",
    "        # запрос на запись обработанных данных в базу \n",
    "        if event.source == \"DataProcessor\" \\\n",
    "                and event.destination == \"DataBase\" \\\n",
    "                and event.operation == \"write_request\" \\\n",
    "                and event.parameters == \"table_orders\" \\\n",
    "                and event.data is not None:\n",
    "            authorized = True\n",
    "\n",
    "        if authorized is False:\n",
    "            print(f\"[{self.__class__.__name__}] событие не разрешено политиками безопасности\")\n",
    "        return authorized\n",
    "\n",
    "    # выполнение разрешённого запроса\n",
    "    # метод должен вызываться только после проверки политик безопасности\n",
    "    def _proceed(self, event):\n",
    "        print(f'[{self.__class__.__name__}] отправляем запрос {event}')\n",
    "        try:\n",
    "            # найдём очередь получателя события\n",
    "            dst_q: Queue = self._entity_queues[event.destination]\n",
    "            # и положим запрос в эту очередь\n",
    "            dst_q.put(event)\n",
    "        except  Exception as e:\n",
    "            # например, запрос пришёл от или для неизвестной сущности\n",
    "            print(f\"[{self.__class__.__name__}] ошибка выполнение запроса {e}\")\n",
    "\n",
    "    # основной код работы монитора безопасности    \n",
    "    def run(self):\n",
    "        print(f'[{self.__class__.__name__}] старт')\n",
    "\n",
    "        # в цикле проверяет наличие новых событий, \n",
    "        # выход из цикла по флагу _force_quit\n",
    "        while self._force_quit is False:\n",
    "            event = None\n",
    "            try:\n",
    "                # ожидание сделано неблокирующим, \n",
    "                # чтобы можно было завершить работу монитора, \n",
    "                # не дожидаясь нового сообщения\n",
    "                event = self._events_q.get_nowait()\n",
    "                # сюда попадаем только в случае получение события,\n",
    "                # теперь нужно проверить политики безопасности\n",
    "                authorized = self._check_policies(event)\n",
    "                if authorized:\n",
    "                    # если политиками запрос авторизован - выполняем\n",
    "                    self._proceed(event)\n",
    "            except Empty:\n",
    "                # сюда попадаем, если новых сообщений ещё нет,\n",
    "                # в таком случае немного подождём\n",
    "                sleep(0.5)\n",
    "            except Exception as e:\n",
    "                # что-то пошло не так, выведем сообщение об ошибке\n",
    "                print(f\"[{self.__class__.__name__}] ошибка обработки {e}, {event}\")\n",
    "            self._check_control_q()\n",
    "        print(f'[{self.__class__.__name__}] завершение работы')\n",
    "\n",
    "    # запрос на остановку работы монитора безопасности для завершения работы\n",
    "    # может вызываться вне процесса монитора\n",
    "    def stop(self):\n",
    "        # поскольку монитор работает в отдельном процессе,\n",
    "        # запрос помещается в очередь, которая проверяется из процесса монитора\n",
    "        request = ControlEvent(operation='stop')\n",
    "        self._control_q.put(request)\n",
    "\n",
    "    # проверка наличия новых управляющих команд\n",
    "    def _check_control_q(self):\n",
    "        try:\n",
    "            request: ControlEvent = self._control_q.get_nowait()\n",
    "            print(f\"[{self.__class__.__name__}] проверяем запрос {request}\")\n",
    "            if isinstance(request, ControlEvent) and request.operation == 'stop':\n",
    "                # поступил запрос на остановку монитора, поднимаем \"красный флаг\"\n",
    "                self._force_quit = True\n",
    "        except Empty:\n",
    "            # никаких команд не поступило, ну и ладно\n",
    "            pass"
   ]
  },
  {
   "attachments": {},
   "cell_type": "markdown",
   "metadata": {
    "datalore": {
     "hide_input_from_viewers": false,
     "hide_output_from_viewers": false,
     "node_id": "zyIhGBqKLRidFSWHBpxdOQ",
     "report_properties": {
      "y": 122
     },
     "type": "MD"
    }
   },
   "source": [
    "### Сущность DataProcessor\n",
    "\n",
    "Взаимодействует с базой данных для обработки данных и записи результатов обработки."
   ]
  },
  {
   "cell_type": "code",
   "execution_count": 334,
   "metadata": {},
   "outputs": [],
   "source": [
    "class DataProcessor(Process):\n",
    "\n",
    "    def __init__(self, monitor_queue: Queue, mode='write'):\n",
    "        # вызываем конструктор базового класса\n",
    "        super().__init__()\n",
    "        # мы знаем только очередь монитора безопасности для взаимодействия с другими сущностями\n",
    "        # прямая отправка сообщений в другую сущность запрещена в концепции FLASK\n",
    "        self.monitor_queue = monitor_queue\n",
    "        # создаём собственную очередь, в которую монитор сможет положить сообщения для этой сущности\n",
    "        self._own_queue = Queue()\n",
    "        # очередь управляющих команд (например, для остановки)\n",
    "        self._control_q = Queue()\n",
    "        self._force_quit = False\n",
    "        self._mode = mode\n",
    "\n",
    "    # выдаёт собственную очередь для взаимодействия\n",
    "    def entity_queue(self):\n",
    "        return self._own_queue\n",
    "\n",
    "    #тестовые данные\n",
    "    @staticmethod\n",
    "    def _sample_data():\n",
    "        return {\n",
    "            \"id\": \"12345\",\n",
    "            \"client\": \"John Doe\",    # персональные данные! это поле должно быть обфусцировано при передаче в недоверенные сущности       \n",
    "            \"order_details\": {\n",
    "                \"name\": \"cisplatin\",\n",
    "                \"quantity\": 12,\n",
    "                \"payment_id\": \"aaa-bbb-cccc\",\n",
    "                \"total\": 10000\n",
    "            }\n",
    "        }\n",
    "\n",
    "    @staticmethod\n",
    "    def encrypt_field(src, field_name) -> dict:\n",
    "        # исключительно для демонстрационных целей, чтобы не усложнять,\n",
    "        # используем собственную реализацию простейшего перестановочного шифра\n",
    "        # этот код нельзя использовать в реальных системах ни при каких условиях!\n",
    "        key = 3\n",
    "        plain_text = src[field_name].upper()\n",
    "        cipher = \"\"\n",
    "        for char in plain_text:\n",
    "            if char not in ' ,.':\n",
    "                cipher +=  chr(ord('A') + (ord(char) - ord('A') + key) % 26)\n",
    "            else:\n",
    "                cipher += char\n",
    "        src[field_name] = cipher\n",
    "        return src\n",
    "\n",
    "\n",
    "    @staticmethod\n",
    "    def decrypt_field(src, field_name) -> dict:\n",
    "        # расшифровка данных\n",
    "        key = 3\n",
    "        cipher = src[field_name].upper()\n",
    "        plain_text = \"\"\n",
    "        for char in cipher:\n",
    "            if char not in ' ,.':\n",
    "                plain_text +=  chr(ord('A') + (ord(char) - ord('A') + 26 - key) % 26)\n",
    "            else:\n",
    "                plain_text += char\n",
    "        src[field_name] = plain_text.title()\n",
    "        return src\n",
    "\n",
    "    def send_data(self):\n",
    "        # отправка тестовых данных\n",
    "        print(f'[{self.__class__.__name__}] отправляем тестовый запрос на запись данных')\n",
    "\n",
    "        # запишем тестовые данные\n",
    "        data = self.encrypt_field(self._sample_data(), \"client\")\n",
    "        print(f'[{self.__class__.__name__}] записываем данные {data}')\n",
    "        event = Event(source=self.__class__.__name__,\n",
    "                    destination='DataBase',\n",
    "                    operation='write_request',\n",
    "                    parameters='table_orders',\n",
    "                    data=data\n",
    "                    )\n",
    "        self.monitor_queue.put(event)\n",
    "\n",
    "    def read_data(self):\n",
    "        print(f'[{self.__class__.__name__}] отправляем тестовый запрос на чтение данных')\n",
    "        event = Event(source=self.__class__.__name__,\n",
    "                    destination='DataBase',\n",
    "                    operation='read_request',\n",
    "                    parameters='table_orders',\n",
    "                    data=None\n",
    "                    )\n",
    "        self.monitor_queue.put(event)\n",
    "\n",
    "    # основной рабочий цикл сущности (приём и отправка данных)\n",
    "    def run(self):\n",
    "        print(f'[{self.__class__.__name__}] старт')\n",
    "           \n",
    "        while self._force_quit is False:\n",
    "            try:\n",
    "                event: Event = self._own_queue.get_nowait()\n",
    "                if event.operation == \"read_response\":                                            \n",
    "                    print(f\"[{self.__class__.__name__}] {event.source} получили данные {event.parameters}, {event.data}\")\n",
    "                    client_name = self.decrypt_field(event.data, 'client')['client']\n",
    "                    print(f\"[{self.__class__.__name__}] имя клиента: {client_name}\")\n",
    "                \n",
    "            except Empty:                \n",
    "                sleep(0.2)\n",
    "                self._check_control_q()\n",
    "        \n",
    "        print(f'[{self.__class__.__name__}] завершение работы')\n",
    "\n",
    "    # метод, который нужно вызвать для остановки работы сущности\n",
    "    def stop(self):\n",
    "        request = ControlEvent(operation='stop')\n",
    "        self._control_q.put(request)\n",
    "\n",
    "    # проверка наличия новых управляющих команд\n",
    "    def _check_control_q(self):\n",
    "        try:\n",
    "            request: ControlEvent = self._control_q.get_nowait()\n",
    "            print(f\"[{self.__class__.__name__}] проверяем запрос {request}\")\n",
    "            if isinstance(request, ControlEvent) and request.operation == 'stop':\n",
    "                self._force_quit = True\n",
    "        except Empty:\n",
    "            # никаких команд не поступило, ну и ладно\n",
    "            pass        \n"
   ]
  },
  {
   "attachments": {},
   "cell_type": "markdown",
   "metadata": {
    "datalore": {
     "hide_input_from_viewers": false,
     "hide_output_from_viewers": false,
     "node_id": "qKFu63q84HSs8LCLAIzUsM",
     "report_properties": {
      "y": 143
     },
     "type": "MD"
    }
   },
   "source": [
    "### Сущность DataBase\n",
    "\n",
    "Эта сущность предоставляет интерфейс для работы с данными, абстрагируя от уровня записи в файловую систему."
   ]
  },
  {
   "cell_type": "code",
   "execution_count": 328,
   "metadata": {},
   "outputs": [],
   "source": [
    "class DataBase(Process):\n",
    "\n",
    "    def __init__(self, monitor_queue: Queue):\n",
    "        # конструктор аналогичный\n",
    "        super().__init__()\n",
    "        self.monitor_queue = monitor_queue\n",
    "        self._own_queue = Queue()\n",
    "        self._control_q = Queue()\n",
    "        self._force_quit = False\n",
    "        self._data = {}\n",
    "\n",
    "    def entity_queue(self):\n",
    "        return self._own_queue\n",
    "\n",
    "    def send_data(self, details: Event):\n",
    "        try:\n",
    "            data = self._data[details.parameters]\n",
    "            response = Event(\n",
    "                source = self.__class__.__name__,\n",
    "                destination= details.source,\n",
    "                operation='read_response',\n",
    "                parameters=details.parameters,\n",
    "                data=data\n",
    "            )\n",
    "            self.monitor_queue.put(response)\n",
    "        except Exception as e:\n",
    "            print(f'{self.__class__.__name__} ошибка обработки запроса на чтение: {e}')\n",
    "\n",
    "    # основной код сущности\n",
    "    def run(self):\n",
    "        print(f'[{self.__class__.__name__}] старт')\n",
    "        while self._force_quit is False:\n",
    "            try:\n",
    "                event: Event = self._own_queue.get_nowait()\n",
    "                if event.operation == \"write_request\":\n",
    "                    print(f\"[{self.__class__.__name__}] {event.source} захотел записать данные {event.parameters}\")\n",
    "                    self._data[event.parameters] = event.data\n",
    "                elif event.operation == \"read_request\":\n",
    "                    print(f\"[{self.__class__.__name__}] {event.source} захотел прочитать данные {event.parameters}\")\n",
    "                    self.send_data(event)\n",
    "            except Empty:                \n",
    "                sleep(0.2)\n",
    "                self._check_control_q()\n",
    "        print(f'[{self.__class__.__name__}] завершение работы')\n",
    "\n",
    "    def stop(self):\n",
    "        request = ControlEvent(operation='stop')\n",
    "        self._control_q.put(request)\n",
    "\n",
    "    # проверка наличия новых управляющих команд\n",
    "    def _check_control_q(self):\n",
    "        try:\n",
    "            request: ControlEvent = self._control_q.get_nowait()\n",
    "            print(f\"[{self.__class__.__name__}] проверяем запрос {request}\")\n",
    "            if isinstance(request, ControlEvent) and request.operation == 'stop':\n",
    "                self._force_quit = True\n",
    "        except Empty:\n",
    "            # никаких команд не поступило, ну и ладно\n",
    "            pass"
   ]
  },
  {
   "attachments": {},
   "cell_type": "markdown",
   "metadata": {
    "datalore": {
     "hide_input_from_viewers": false,
     "hide_output_from_viewers": false,
     "node_id": "bxjEVINz9fOYcALLwJyT5x",
     "report_properties": {
      "y": 165
     },
     "type": "MD"
    }
   },
   "source": [
    "### Инициализируем монитор и сущности"
   ]
  },
  {
   "cell_type": "code",
   "execution_count": 329,
   "metadata": {
    "datalore": {
     "hide_input_from_viewers": false,
     "hide_output_from_viewers": false,
     "node_id": "sQGtSVoeImd8MaD1uVHSHp",
     "report_properties": {
      "y": 168
     },
     "type": "CODE"
    }
   },
   "outputs": [],
   "source": [
    "monitor = Monitor(monitor_events_queue)\n",
    "data_processor = DataProcessor(monitor_events_queue)\n",
    "data_base = DataBase(monitor_events_queue)"
   ]
  },
  {
   "attachments": {},
   "cell_type": "markdown",
   "metadata": {
    "datalore": {
     "hide_input_from_viewers": false,
     "hide_output_from_viewers": false,
     "node_id": "gI4eUA7J5oYR0Iuos0a2so",
     "report_properties": {
      "y": 172
     },
     "type": "MD"
    }
   },
   "source": [
    "регистрируем очереди сущностей в мониторе"
   ]
  },
  {
   "cell_type": "code",
   "execution_count": 330,
   "metadata": {
    "datalore": {
     "hide_input_from_viewers": false,
     "hide_output_from_viewers": false,
     "node_id": "jj3dRPwN0zJJAuwuYDScYO",
     "report_properties": {
      "y": 175
     },
     "type": "CODE"
    }
   },
   "outputs": [
    {
     "name": "stdout",
     "output_type": "stream",
     "text": [
      "[Monitor] регистрируем сущность DataProcessor\n",
      "[Monitor] регистрируем сущность DataBase\n"
     ]
    }
   ],
   "source": [
    "monitor.add_entity_queue(data_processor.__class__.__name__, data_processor.entity_queue())\n",
    "monitor.add_entity_queue(data_base.__class__.__name__, data_base.entity_queue())"
   ]
  },
  {
   "attachments": {},
   "cell_type": "markdown",
   "metadata": {
    "datalore": {
     "hide_input_from_viewers": false,
     "hide_output_from_viewers": false,
     "node_id": "Fs6PfdIKOB1pj2iK8wRUPV",
     "report_properties": {
      "y": 181
     },
     "type": "MD"
    }
   },
   "source": [
    "### Запускаем всё"
   ]
  },
  {
   "attachments": {},
   "cell_type": "markdown",
   "metadata": {
    "datalore": {
     "hide_input_from_viewers": false,
     "hide_output_from_viewers": false,
     "node_id": "PzAg6s2xfAZYt0ZbKdEsIR",
     "report_properties": {
      "y": 184
     },
     "type": "MD"
    }
   },
   "source": [
    "Ожидаемая последовательность событий\n",
    "\n",
    "![Диаграмма последовательности вызовов](//www.plantuml.com/plantuml/png/rLGzhjf04Ext55k-9yG5KaGeIXif1qYpSLnO2ZQo5sfYo8yK99f8IPighR6mx40mLvYvKMPiLimY495IlGPcT-Vd-sQ-yIYp9hNJyNireVyeY2OcjlgbiUPrcWHXbYMfz_8gYIChxfpt2vE5IfcfJUBf-6sOAdNorCFdBkYPnW-OGu5pp9KBudTd-muI0tl92pzNdDXGco1Diap13pX0Wv-WWGBsz5j3mITSQpQXX8fYla15ReKAutUQevMVupiv7g6X4YiDMpeSu81VyQFmlmSFMjZWd48tq1BG7HJwWSeskAJR5iekQGFLewQtbj8lwRHbM0uxhlgYRs89GSEH6P3ZLdUPZtHWMfpbjuPImuREDIvyY68EWm71gnr5A33tQ4B5MTnChiwnAzhslMHg3AhbRXEU1dOonkKP3dbat1LYmLvL1_z2QYQmqSpOy5pU6Nwkg_sLwN5DRQjlZR6VTZ8BqtCX-2OQ8Dl3LxU4yejgLVqW_rKeSWfzst21dw6vCWKIxzEVWnAX5-mvWB7dp7kFQn_4_p6-t4Z2AWkoUIOdw8gGEpj-W_q3Rx7RTFVjUVJL8UKd2yBFqpApeagoAlWZjIYreLNVYruxuabgIEXmH2Pzv_y2)"
   ]
  },
  {
   "cell_type": "code",
   "execution_count": 331,
   "metadata": {
    "datalore": {
     "hide_input_from_viewers": false,
     "hide_output_from_viewers": false,
     "node_id": "iPZmNnkpcdyoIXv318yymh",
     "report_properties": {
      "y": 194
     },
     "type": "CODE"
    }
   },
   "outputs": [
    {
     "name": "stdout",
     "output_type": "stream",
     "text": [
      "[Monitor] старт\n",
      "[DataBase] старт\n",
      "[DataProcessor] старт\n",
      "[DataProcessor] отправляем тестовый запрос на запись данных\n",
      "[DataProcessor] записываем данные {'id': '12345', 'client': 'MRKQ GRH', 'order_details': {'name': 'cisplatin', 'quantity': 12, 'payment_id': 'aaa-bbb-cccc', 'total': 10000}}\n",
      "[Monitor] обрабатываем событие Event(source='DataProcessor', destination='DataBase', operation='write_request', parameters='table_orders', data={'id': '12345', 'client': 'MRKQ GRH', 'order_details': {'name': 'cisplatin', 'quantity': 12, 'payment_id': 'aaa-bbb-cccc', 'total': 10000}})\n",
      "[Monitor] отправляем запрос Event(source='DataProcessor', destination='DataBase', operation='write_request', parameters='table_orders', data={'id': '12345', 'client': 'MRKQ GRH', 'order_details': {'name': 'cisplatin', 'quantity': 12, 'payment_id': 'aaa-bbb-cccc', 'total': 10000}})\n",
      "[DataBase] DataProcessor захотел записать данные table_orders\n",
      "[Monitor] обрабатываем событие Event(source='DataProcessor', destination='DataBase', operation='read_request', parameters='table_orders', data=None)\n",
      "[Monitor] отправляем запрос Event(source='DataProcessor', destination='DataBase', operation='read_request', parameters='table_orders', data=None)\n",
      "[DataProcessor] отправляем тестовый запрос на чтение данных\n",
      "[DataBase] DataProcessor захотел прочитать данные table_orders\n",
      "[Monitor] обрабатываем событие Event(source='DataBase', destination='DataProcessor', operation='read_response', parameters='table_orders', data={'id': '12345', 'client': 'MRKQ GRH', 'order_details': {'name': 'cisplatin', 'quantity': 12, 'payment_id': 'aaa-bbb-cccc', 'total': 10000}})\n",
      "[Monitor] отправляем запрос Event(source='DataBase', destination='DataProcessor', operation='read_response', parameters='table_orders', data={'id': '12345', 'client': 'MRKQ GRH', 'order_details': {'name': 'cisplatin', 'quantity': 12, 'payment_id': 'aaa-bbb-cccc', 'total': 10000}})\n",
      "[DataProcessor] DataBase получили данные table_orders, {'id': '12345', 'client': 'MRKQ GRH', 'order_details': {'name': 'cisplatin', 'quantity': 12, 'payment_id': 'aaa-bbb-cccc', 'total': 10000}}\n",
      "[DataProcessor] имя клиента: John Doe\n"
     ]
    }
   ],
   "source": [
    "monitor.start()\n",
    "data_base.start()\n",
    "data_processor.start()\n",
    "data_processor.send_data()\n",
    "sleep(1)\n",
    "data_processor.read_data()\n",
    "sleep(2)"
   ]
  },
  {
   "attachments": {},
   "cell_type": "markdown",
   "metadata": {
    "datalore": {
     "hide_input_from_viewers": false,
     "hide_output_from_viewers": false,
     "node_id": "yjTSPXH69VsYFlzYmCG8Uz",
     "report_properties": {
      "y": 206
     },
     "type": "MD"
    }
   },
   "source": [
    "### Завершение работы процессов\n",
    "\n",
    "Сначала отправим запросы на останов процессов"
   ]
  },
  {
   "cell_type": "code",
   "execution_count": 332,
   "metadata": {
    "datalore": {
     "hide_input_from_viewers": false,
     "hide_output_from_viewers": false,
     "node_id": "IO5BC9EYbABeIVgITd22Al",
     "report_properties": {
      "y": 209
     },
     "type": "CODE"
    }
   },
   "outputs": [],
   "source": [
    "monitor.stop()\n",
    "data_processor.stop()\n",
    "data_base.stop()\n"
   ]
  },
  {
   "cell_type": "markdown",
   "metadata": {},
   "source": [
    "Теперь подождём завершения их работы"
   ]
  },
  {
   "cell_type": "code",
   "execution_count": 333,
   "metadata": {},
   "outputs": [
    {
     "name": "stdout",
     "output_type": "stream",
     "text": [
      "[DataBase] проверяем запрос ControlEvent(operation='stop')\n",
      "[DataProcessor] проверяем запрос ControlEvent(operation='stop')[DataBase] завершение работы\n",
      "\n",
      "[DataProcessor] завершение работы\n",
      "[Monitor] проверяем запрос ControlEvent(operation='stop')\n",
      "[Monitor] завершение работы\n"
     ]
    }
   ],
   "source": [
    "data_processor.join()\n",
    "data_base.join()\n",
    "monitor.join()"
   ]
  },
  {
   "attachments": {},
   "cell_type": "markdown",
   "metadata": {
    "datalore": {
     "hide_input_from_viewers": false,
     "hide_output_from_viewers": false,
     "node_id": "x6HCBafkZhFxKMVYJNoi7w",
     "report_properties": {
      "y": 213
     },
     "type": "MD"
    }
   },
   "source": [
    "## Заключение\n",
    "\n",
    "В этом блокноте продемонстрирован шаблон обфускации чувствительных данных в сочетании с подходом FLASK, заключающемся в тотальном контроле взаимодействия сущностей с помощью монитора безопасности и простейших политик.\n",
    "\n",
    "Благодаря обфускации, мы можем не беспокоиться об утечке данных из недоверенных сущностей, при условии, что вместе с данными не утекает и механизм восстановления оригинала (который должен быть доступен только доверенным компонентам). \n",
    "\n",
    "В некоторых случаях обфускация может быть односторонней, т.е. не предполагать восстановление исходной версии (например, случайная перестановка символов или замена на другие) - это может быть полезно для полноценной работы большинства подсистем, которым важно работать с полной базой, но необязательно с аутентичными данными - это, например, различная аналитика, машинное обучение или тестирование.\n",
    "\n",
    "Очевидно, оригинальные данные должны быть доступны только доверенным сущностм, а обфусцированные - вообще всем, кому это нужно с точки зрения выполнения бизнес-функций, разработки или наладки системы."
   ]
  },
  {
   "attachments": {},
   "cell_type": "markdown",
   "metadata": {
    "datalore": {
     "hide_input_from_viewers": false,
     "hide_output_from_viewers": false,
     "node_id": "juTrOfcuxSpilSgNwmg3q3",
     "report_properties": {
      "y": 220
     },
     "type": "MD"
    }
   },
   "source": [
    "## Упражнения\n",
    "\n",
    "### Уровень \"Новичок\"\n",
    "\n",
    "- в передаваемом сообщении добавьте конфиденциальное поле \"адрес доставки\" (delivery_address) и защитите его по аналогии с именем клиента\n",
    "\n",
    "### Уровень \"Продвинутый\"\n",
    "\n",
    "- защитите также сумму заказа (order_details -> total)\n",
    "\n",
    "### Уровень \"Спец\"\n",
    "\n",
    "_Возможно, для задач этого уровня сложности имеет смысл перенести разработку кода в VS Code или PyCharm._\n",
    "\n",
    "- вместо простого \"самодельного\" шифра используйте алгоритм симметричного шифрования для защиты и контроля целостнсти конфиденциальных данных.\n",
    "- добавьте ещё одну недоверенную сущность FileSystem, которая должна будет реализовывать запись данных в файл\n",
    "  - только DataBase может взаимодействовать с FileSystem; интерфейс - read/write. При записи данных в файл - если файла нет - создать; при чтении - если файла нет - вернуть None в поле data\n",
    "\n",
    "### Уровень \"Крутой\"\n",
    "\n",
    "_Возможно, для задач этого уровня сложности имеет смысл перенести разработку кода в VS Code или PyCharm._\n",
    "\n",
    "- добавьте ещё одну доверенную сущность DeliveryProcessor, которая должна также иметь доступ к конфиденциальной информации о заказах для осуществления процесса доставки\n",
    "  - DeliveryProcessor будет взаимодействовать с DataBase\n",
    "  - DataProcessor должен использовать асимметричное шифрование для защиты конфиденциальных данных\n",
    "  - DeliveryProcessor должен контролировать целостность конфиденциальных данных, в реализации DeliveryProcessor публичный ключ DataProcessor может быть реализован как параметр (константа)\n",
    "- В мониторе безопасности реализуйте контроль подписи конфиденциальных данных как политику безопасности:\n",
    "  - при чтении данных из базы необходимо проверить, что конфиденциальная информация правильно зашифрована"
   ]
  },
  {
   "cell_type": "markdown",
   "metadata": {},
   "source": []
  }
 ],
 "metadata": {
  "datalore": {
   "base_environment": "default",
   "computation_mode": "JUPYTER",
   "package_manager": "pip",
   "packages": [],
   "version": 1
  },
  "kernelspec": {
   "display_name": "basic-demo-MX9QBRoe",
   "language": "python",
   "name": "python3"
  },
  "language_info": {
   "codemirror_mode": {
    "name": "ipython",
    "version": 3
   },
   "file_extension": ".py",
   "mimetype": "text/x-python",
   "name": "python",
   "nbconvert_exporter": "python",
   "pygments_lexer": "ipython3",
   "version": "3.8.10"
  }
 },
 "nbformat": 4,
 "nbformat_minor": 4
}
